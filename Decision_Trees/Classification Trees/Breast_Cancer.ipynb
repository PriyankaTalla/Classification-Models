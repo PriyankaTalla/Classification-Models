{
 "cells": [
  {
   "cell_type": "code",
   "execution_count": 5,
   "metadata": {},
   "outputs": [
    {
     "name": "stdout",
     "output_type": "stream",
     "text": [
      "Best hyperparameters for classification: {'criterion': 'entropy', 'max_depth': 10, 'max_leaf_nodes': None, 'min_impurity_decrease': 0.01, 'min_samples_leaf': 5, 'min_samples_split': 10}\n",
      "ROC-AUC Score for classification: 0.9606114050558496\n"
     ]
    }
   ],
   "source": [
    "from sklearn.model_selection import GridSearchCV\n",
    "from sklearn.tree import DecisionTreeClassifier, DecisionTreeRegressor\n",
    "from sklearn.datasets import load_breast_cancer\n",
    "from sklearn.model_selection import train_test_split\n",
    "from sklearn.metrics import roc_auc_score, mean_squared_error, mean_absolute_error, r2_score\n",
    "\n",
    "# Load classification dataset\n",
    "cancer = load_breast_cancer()\n",
    "X_cancer, y_cancer = cancer.data, cancer.target\n",
    "\n",
    "# Split dataset\n",
    "X_train_c, X_test_c, y_train_c, y_test_c = train_test_split(X_cancer, y_cancer, test_size=0.3, random_state=42)\n",
    "\n",
    "# Define the classification model\n",
    "dt_classifier = DecisionTreeClassifier()\n",
    "\n",
    "# Define the hyperparameters grid for classification\n",
    "param_grid_c = {\n",
    "    'max_depth': [None, 10, 20],\n",
    "    'min_samples_split': [2, 10],\n",
    "    'min_samples_leaf': [1, 5],\n",
    "    'criterion': ['gini', 'entropy'],\n",
    "    'max_leaf_nodes': [None, 10, 20],\n",
    "    'min_impurity_decrease': [0.0, 0.01, 0.1]\n",
    "}\n",
    "\n",
    "# Perform grid search for classification\n",
    "grid_search_c = GridSearchCV(estimator=dt_classifier, param_grid=param_grid_c, cv=5, scoring='roc_auc')\n",
    "grid_search_c.fit(X_train_c, y_train_c)\n",
    "\n",
    "# Best parameters for classification\n",
    "print(\"Best hyperparameters for classification:\", grid_search_c.best_params_)\n",
    "\n",
    "# Evaluate the best classification model\n",
    "best_model_c = grid_search_c.best_estimator_\n",
    "y_pred_proba_c = best_model_c.predict_proba(X_test_c)[:, 1]\n",
    "print(\"ROC-AUC Score for classification:\", roc_auc_score(y_test_c, y_pred_proba_c))"
   ]
  }
 ],
 "metadata": {
  "kernelspec": {
   "display_name": "Python 3",
   "language": "python",
   "name": "python3"
  },
  "language_info": {
   "codemirror_mode": {
    "name": "ipython",
    "version": 3
   },
   "file_extension": ".py",
   "mimetype": "text/x-python",
   "name": "python",
   "nbconvert_exporter": "python",
   "pygments_lexer": "ipython3",
   "version": "3.9.6"
  }
 },
 "nbformat": 4,
 "nbformat_minor": 2
}
